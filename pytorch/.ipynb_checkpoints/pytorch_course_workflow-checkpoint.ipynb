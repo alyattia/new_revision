{
  "nbformat": 4,
  "nbformat_minor": 0,
  "metadata": {
    "colab": {
      "provenance": []
    },
    "kernelspec": {
      "name": "python3",
      "display_name": "Python 3"
    },
    "language_info": {
      "name": "python"
    }
  },
  "cells": [
    {
      "cell_type": "markdown",
      "source": [
        "###What we will do\n",
        "- data (prepare and load)\n",
        "- build the model\n",
        "- fitting the model to data (training)\n",
        "- making predictions and evaluating the model (interface)\n",
        "- saving and loading model\n",
        "- putting it all together"
      ],
      "metadata": {
        "id": "BgSwlYeeXsOf"
      }
    },
    {
      "cell_type": "code",
      "source": [
        "import torch\n",
        "from torch import nn # contains all the pytorch's building blocks for neural networks\n",
        "import matplotlib.pyplot as plt # to visualize data\n",
        "import numpy as np\n",
        "\n",
        "# check pytorch version\n",
        "print(torch.__version__)\n",
        "device = \"cuda\" if torch.cuda.is_available() else \"cpu\"\n",
        "print(device)"
      ],
      "metadata": {
        "colab": {
          "base_uri": "https://localhost:8080/"
        },
        "id": "glVAQSiqYDpw",
        "outputId": "3b6f78b4-3fc6-4cc1-9917-cb9fa8325357"
      },
      "execution_count": 1,
      "outputs": [
        {
          "output_type": "stream",
          "name": "stdout",
          "text": [
            "2.2.1+cu121\n",
            "cpu\n"
          ]
        }
      ]
    },
    {
      "cell_type": "markdown",
      "source": [
        "### 1. Data preparing and loading\n",
        "Data can be almost everything for example:\n",
        "- Excel spread sheet\n",
        "- Images of any kind\n",
        "- Videos\n",
        "- Audio like songs and sounds\n",
        "- DNA\n",
        "- Text\n",
        "\n",
        "machine learning is a game of 2 parts.\n",
        "1. get data in numerican representation\n",
        "2. Build a model to learn patterns in that numerical data and be able to identify those data"
      ],
      "metadata": {
        "id": "IMzfAUp6jU_l"
      }
    },
    {
      "cell_type": "markdown",
      "source": [
        "To showcase this let's create some *known* data using the linear regression formula `f(x) = bx + c`\n",
        "\n",
        "We will make a straight line using the linear regression formula with *known* **parameters**.\n",
        "\n",
        "SO we start with a known data a known represantaion and let the model learn then give him the real data"
      ],
      "metadata": {
        "id": "JbtyDfsRlyGp"
      }
    },
    {
      "cell_type": "code",
      "source": [
        "# creating know parameters\n",
        "weight = 0.7 # the weight is b in the formula\n",
        "bias = 0.3 # the bias is C in the formula\n",
        "\n",
        "# we know those numbers above but we wanna build a model the estimates those nums\n",
        "# create\n",
        "start = 0\n",
        "end = 1\n",
        "step = 0.02\n",
        "X = torch.arange(start, end, step).unsqueeze(dim=1).to(device)\n",
        "y = weight * X + bias\n",
        "print(f\"{X[:10]} that's X with len {len(X)}\")\n",
        "print(f\"{y[:10]} that's y with len {len(y)}\")"
      ],
      "metadata": {
        "colab": {
          "base_uri": "https://localhost:8080/"
        },
        "id": "5YoVSlaCjdfJ",
        "outputId": "10347af0-abf0-4d9a-a83c-105bba4506e0"
      },
      "execution_count": 2,
      "outputs": [
        {
          "output_type": "stream",
          "name": "stdout",
          "text": [
            "tensor([[0.0000],\n",
            "        [0.0200],\n",
            "        [0.0400],\n",
            "        [0.0600],\n",
            "        [0.0800],\n",
            "        [0.1000],\n",
            "        [0.1200],\n",
            "        [0.1400],\n",
            "        [0.1600],\n",
            "        [0.1800]]) that's X with len 50\n",
            "tensor([[0.3000],\n",
            "        [0.3140],\n",
            "        [0.3280],\n",
            "        [0.3420],\n",
            "        [0.3560],\n",
            "        [0.3700],\n",
            "        [0.3840],\n",
            "        [0.3980],\n",
            "        [0.4120],\n",
            "        [0.4260]]) that's y with len 50\n"
          ]
        }
      ]
    },
    {
      "cell_type": "markdown",
      "source": [
        "Splitting the data into training and testing sets, so the squence is as follows:\n",
        "1. training (is like the material and learning of an exam)\n",
        "2. validation set (is the practicing before the exam)\n",
        "3. tesing set (final exam) the goal of the final exam is **Generalization**, means to test the preformance of the model with a data that he have not seen before"
      ],
      "metadata": {
        "id": "B32Phk-oqWeC"
      }
    },
    {
      "cell_type": "code",
      "source": [
        "# creating training split\n",
        "training_split = int(0.8*len(X))\n",
        "X_train, y_train = X[:training_split], y[:training_split]\n",
        "X_test, y_test = X[training_split:], y[training_split:]\n",
        "\n",
        "len(X_train), len(y_train), len(X_test), len(y_test)"
      ],
      "metadata": {
        "colab": {
          "base_uri": "https://localhost:8080/"
        },
        "id": "PAf-3KxSo1-t",
        "outputId": "d81fb11a-9f21-44fd-936e-ff16937b2e01"
      },
      "execution_count": 3,
      "outputs": [
        {
          "output_type": "execute_result",
          "data": {
            "text/plain": [
              "(40, 40, 10, 10)"
            ]
          },
          "metadata": {},
          "execution_count": 3
        }
      ]
    },
    {
      "cell_type": "code",
      "source": [
        "# visualizing using matplotlib\n",
        "def plot_predictions(train_data=X_train.cpu(),\n",
        "                     train_labels=y_train.cpu(),\n",
        "                     test_data=X_test.cpu(),\n",
        "                     test_labels=y_test.cpu(),\n",
        "                     predictions=None):\n",
        "  \"\"\"\n",
        "  Plots training data, comparing data, and predictions\n",
        "  \"\"\"\n",
        "  plt.figure(figsize=(10, 7))\n",
        "\n",
        "  # plot the trianing data in blue\n",
        "  plt.scatter(train_data, train_labels, c=\"b\", s=4, label=\"Training data\")\n",
        "\n",
        "  # plot the training data in greeen\n",
        "  plt.scatter(test_data, test_labels, c=\"g\", s=4, label=\"Testing data\")\n",
        "\n",
        "  # Are there predictions\n",
        "  if predictions is not None:\n",
        "    plt.scatter(test_data, predictions, c=\"r\", s=4, label=\"Predictions\")\n",
        "\n",
        "  # show the legends\n",
        "  plt.legend(prop={\"size\": 14})\n",
        "\n",
        "plot_predictions()"
      ],
      "metadata": {
        "colab": {
          "base_uri": "https://localhost:8080/",
          "height": 599
        },
        "id": "sbCDZMjMtYoC",
        "outputId": "9c65d26a-b95d-4136-da61-0034f0865a38"
      },
      "execution_count": 4,
      "outputs": [
        {
          "output_type": "display_data",
          "data": {
            "text/plain": [
              "<Figure size 1000x700 with 1 Axes>"
            ],
            "image/png": "[encoded data removed]"
          },
          "metadata": {}
        }
      ]
    },
    {
      "cell_type": "markdown",
      "source": [
        "###Building the first model\n",
        "nn.Module is a base class of all NN modules your module should subclass it\n",
        "\n",
        "####What this model is doing\n",
        "- start with random values (weights and bias)\n",
        "- look at the training data and adjust those random values to achive or get closer to the idle values (weights and bias we used at the begining)\n",
        "\n",
        "####How:\n",
        "Through 2 main algorithms that are working behind the scenes:\n",
        "1. Gradient descent:\n",
        "\n",
        "It is like when you are at a top of a mountain and you can't see anything but you keep moving downwards until you find the flower.\n",
        "\n",
        "In ML what the gradient descent is making is trying to find the value of the weights for example that makes the loss as lowest as possible. It makes that by trying random numbers at the beginning and then when it catches a number that makes the loss lower it keep moving in its direction until the loss increases again and then it moves backwards again until finding most situable value.\n",
        "\n",
        "The size of the steps it takes each time is Lr (learning rate)\n",
        "2. Backpropagation\n",
        "\n",
        "Is the algorithm that adjusts the wieghts and bias to reuse them. And, begin the function from the begining with the new parameters"
      ],
      "metadata": {
        "id": "BWfa2pu5bdut"
      }
    },
    {
      "cell_type": "code",
      "source": [
        "# we will make a linear regression model class\n",
        "# what we r doin here is making a subclass of the nn.Module(contains all the NN building blocks)\n",
        "# then intializing the parameters to be used in computations (these could be layers, normal parameters, or hard-coded values or functions)\n",
        "class LinearRegressionModel(nn.Module):\n",
        "  def __init__(self):\n",
        "    super().__init__()\n",
        "    # the parameter is a subclass of torch.Tensor so it is a tensor itself\n",
        "    # when dealing with a random (not custom) dataset pytorch can make the parameters for you\n",
        "    self.weights = nn.Parameter(torch.randn(\n",
        "        1,\n",
        "        requires_grad=True,# this will tell pytorch to track all the gradients and use the gradient descent algo\n",
        "        dtype=torch.float\n",
        "        ))\n",
        "    self.bias = nn.Parameter(torch.randn(1, requires_grad=True, dtype=torch.float))\n",
        "\n",
        "  # a forward method to define the computation in the model\n",
        "  # any subclass of nn.Module must override the forward method to define what computation is happening\n",
        "  def forward(self, x: torch.Tensor) -> torch.Tensor: # <- X is the input data\n",
        "    return x * self.weights + self.bias # this is the linear regression formula"
      ],
      "metadata": {
        "id": "OtbcJzkibhRU"
      },
      "execution_count": 5,
      "outputs": []
    },
    {
      "cell_type": "markdown",
      "source": [
        "###Pytorch model building essentials\n",
        "\n",
        "- **A parameter:** is something that the models itself sets\n",
        "- **A hyperparameter:** is something that we (programmers) are setting\n",
        "- **torch.nn:** contains all the buildings for computational graphs(a NN can be considered a computational graph)\n",
        "- **torch.nn.parameter:** The parameters that our model should try each time and learn, often a pytorch layer from torch.nn will set those params automatically\n",
        "- **torch.nn.Module:** that is the basic class for all NN modules. Hint: when you subclass it you should overried the forward method\n",
        "- **torch.optim:** optimizes the random parameters for example (wieghts(slop) and bias(y-intercept)) to be not random and to be closer to the reality each time\n",
        "- **def forward():** all nn.Module classes require a forward method to define the computations to be happening. It can be simple or complixed as you like the model to do.\n",
        "- **torch.utils.data.Dataset:** Used with big data. Represents a map between key (label) and sample (features) pairs of your data for example images and their associated labels\n",
        "- **torch.utils.data.Dataloader:** Allows you to iterate over the torch Dataset(iterate over your data)\n",
        "- **Output error:** the difference between the predicted data and the actuall data\n",
        "- **Gradient:** imagine you are on a hill and the loss is the height of that hill and you wanna get into the bottom. So, it is like that and you are at the top /__\\ and the loss is the height of that hill. We want our model to move in the direction of the gradient in which it becomes nothing 0. So, the loss also becomes 0. In other words, the gradient is as the slop of the hill and you wanna move into its direction\n",
        "\n",
        "\n",
        "\n",
        "---\n",
        "\n",
        "\n",
        "\n",
        "####Similar words\n",
        "weights - Parameters - Factors - Connections\n",
        "\n",
        "inputs - Features - Records - Samples - Features - Attributes\n",
        "\n",
        "Outputs - Values - Predictions - Responses - Labels - Targets\n",
        "\n",
        "Loss - Score - Performance Metric - Penalty - Error - Cost - J()\n",
        "\n",
        "Neurons - Cells - Units Nodes\n",
        "\n",
        "Linear layer - linear transform - probing layer - fully connected layer - dense layer"
      ],
      "metadata": {
        "id": "VN_ZNxOzs3Cq"
      }
    },
    {
      "cell_type": "markdown",
      "source": [
        "###Workflow\n",
        "####1. getting the data ready\n",
        "the first step in the workflow is getting the data ready make that by:\n",
        "- torchvision.transforms:\n",
        "- torch.utils.data.Dataset\n",
        "- torch.utils.data.DataLoader\n",
        "####2. Build or pick up pretrained model\n",
        "2.1 pick a loss function and optimizer\n",
        "2.2 build a training loop\n",
        "- torch.nn\n",
        "- torch.nn.Module\n",
        "- torchvision.models / for pretrained models\n",
        "####3. Fit the model to the data to make predictions\n",
        "####4. Evaluate the model\n",
        "- torchmatrix\n",
        "####5. Improve through experimentation\n",
        "- torch.utils.tensorboard"
      ],
      "metadata": {
        "id": "VzexQAzzzBvy"
      }
    },
    {
      "cell_type": "code",
      "source": [
        "# Checking what the model contain using .paramters()\n",
        "\n",
        "# create a random seed to decrease the randomness and to follow up with the video\n",
        "torch.manual_seed(42)\n",
        "\n",
        "# create an instance of the model\n",
        "model0 = LinearRegressionModel()\n",
        "\n",
        "# check the parameters\n",
        "print(model0)\n",
        "print(model0.parameters())\n",
        "print(list(model0.parameters()))\n",
        "print(model0.state_dict())\n",
        "\n",
        "# Now our goal in that"
      ],
      "metadata": {
        "colab": {
          "base_uri": "https://localhost:8080/"
        },
        "id": "OlpURKTCsGOB",
        "outputId": "c68d586f-b1b5-467b-a919-9abe1697962a"
      },
      "execution_count": 6,
      "outputs": [
        {
          "output_type": "stream",
          "name": "stdout",
          "text": [
            "LinearRegressionModel()\n",
            "<generator object Module.parameters at 0x7937db9963b0>\n",
            "[Parameter containing:\n",
            "tensor([0.3367], requires_grad=True), Parameter containing:\n",
            "tensor([0.1288], requires_grad=True)]\n",
            "OrderedDict([('weights', tensor([0.3367])), ('bias', tensor([0.1288]))])\n"
          ]
        }
      ]
    },
    {
      "cell_type": "markdown",
      "source": [
        "### making predictions using `torch.inference_mode()`\n",
        "to check the model's predictive power, let's see how well it predicts `y_test` based on `x_test`\n",
        "\n",
        "when we pass data through our model it runs through the `forward()` method"
      ],
      "metadata": {
        "id": "hzOu_T8oGT-Q"
      }
    },
    {
      "cell_type": "code",
      "source": [
        "X_test, y_test"
      ],
      "metadata": {
        "colab": {
          "base_uri": "https://localhost:8080/"
        },
        "id": "ij36GLW3HQVo",
        "outputId": "2c2d4bd9-b9df-4415-e145-1b7f71a001ef"
      },
      "execution_count": 7,
      "outputs": [
        {
          "output_type": "execute_result",
          "data": {
            "text/plain": [
              "(tensor([[0.8000],\n",
              "         [0.8200],\n",
              "         [0.8400],\n",
              "         [0.8600],\n",
              "         [0.8800],\n",
              "         [0.9000],\n",
              "         [0.9200],\n",
              "         [0.9400],\n",
              "         [0.9600],\n",
              "         [0.9800]]),\n",
              " tensor([[0.8600],\n",
              "         [0.8740],\n",
              "         [0.8880],\n",
              "         [0.9020],\n",
              "         [0.9160],\n",
              "         [0.9300],\n",
              "         [0.9440],\n",
              "         [0.9580],\n",
              "         [0.9720],\n",
              "         [0.9860]]))"
            ]
          },
          "metadata": {},
          "execution_count": 7
        }
      ]
    },
    {
      "cell_type": "code",
      "source": [
        "# torch inference is torch predictions inference is another word from predictions\n",
        "# this is actually a contenxt manager we use it when predicting it is the same if you just made y_pres = model0(X_test)\n",
        "\n",
        "# what inference is making actually is turning off the grad tracking, so you will lose tracking of gradients, but you it will be faster\n",
        "# becasue there is no gradient descent and so. It is also not saved in memory.\n",
        "# use it with test data for example or when you only want the predictions with large data\n",
        "with torch.inference_mode():\n",
        "  y_preds = model0(X_test)\n",
        "\n",
        "# you can also use this. However, the person of the course said inference code is prefered and better\n",
        "# with torch.no_grad():\n",
        "#   y_preds = model0(X_test)\n",
        "\n",
        "\n",
        "# y_preds (predictions) should be like the y_test bec those are the real data and we are trying to predict a data close to it but what happend is the model gave us completly random data\n",
        "# it preformed that bad bec it's intialised with random params and there is no tracking and changing\n",
        "plot_predictions(predictions=y_preds)\n",
        "print(y_preds)"
      ],
      "metadata": {
        "colab": {
          "base_uri": "https://localhost:8080/",
          "height": 782
        },
        "id": "KUEbGIrjFf_C",
        "outputId": "00254bb4-aa69-4b08-ade4-10ae109f00ef"
      },
      "execution_count": 8,
      "outputs": [
        {
          "output_type": "stream",
          "name": "stdout",
          "text": [
            "tensor([[0.3982],\n",
            "        [0.4049],\n",
            "        [0.4116],\n",
            "        [0.4184],\n",
            "        [0.4251],\n",
            "        [0.4318],\n",
            "        [0.4386],\n",
            "        [0.4453],\n",
            "        [0.4520],\n",
            "        [0.4588]])\n"
          ]
        },
        {
          "output_type": "display_data",
          "data": {
            "text/plain": [
              "<Figure size 1000x700 with 1 Axes>"
            ],
            "image/png": "[encoded data removed]"
          },
          "metadata": {}
        }
      ]
    },
    {
      "cell_type": "markdown",
      "source": [
        "###Training the model\n",
        "The whole idea is for the model to move from some **unknown** (maybe random) params into some **known** ones. In other words, from a poor representation into a better representation\n",
        "\n",
        "One way to measure how poor the model preform and develop it is by using a loss function (also called cost function or criterion)"
      ],
      "metadata": {
        "id": "MkU7FBEJNaGw"
      }
    },
    {
      "cell_type": "markdown",
      "source": [
        "###Things we need to train\n",
        "- **Loss function:** a function that measures how wrong your model's predictions are\n",
        "- **Optimizer:** Takes into account the loss and adjust the parameters (e.g. wieghts and bias)\n",
        "And to do that in pytorch we need:\n",
        "- A training loop\n",
        "- A testing loop"
      ],
      "metadata": {
        "id": "I2R7NWWrPUXX"
      }
    },
    {
      "cell_type": "markdown",
      "source": [
        "###Loss function & optimizers\n",
        "####Loss\n",
        "We will use the `n.L1Loss` function(also refered to as mean absolute error function (MAE))\n",
        "What it does actually is taking each label from the predictions and absolute subtract the it by the actuall label. Then, get the average of all equations.\n",
        "\n",
        "In other words, if for example the first predicted label is 0.1(y in the graph point) and the actuall first label is 0.7 so it gets `|0.7 - 0.1|` and save it and then makes that to all labels and get the mean at the end.\n",
        "\n",
        "In other words, if you so the points on the graph. It gets the length between the actuall points and the predicted ones and get the mean between them - https://pytorch.org/docs/stable/nn.html#loss-functions - https://pytorch.org/docs/stable/generated/torch.nn.L1Loss.html#torch.nn.L1Loss\n",
        "\n",
        "####Optimizer\n",
        "We will use the SGD optimizer (Stochastic(random) Gradient Descent). it takes random numbers and starts by randomly adjust them to minimize the loss and once it find a random values that minimized the loss it keep move in the same direction.\n",
        "\n",
        "So, for example, if it decreased the weight and the loss decreased it will keep decreasing the weight until it raises again so it stops at that point, and the same thing for the bias - https://pytorch.org/docs/stable/generated/torch.optim.SGD.html"
      ],
      "metadata": {
        "id": "otNINdn5Q_Do"
      }
    },
    {
      "cell_type": "markdown",
      "source": [
        "###The goal of training\n",
        "So, in this regression example our goal is to minmize the distance between the actual and predict points. In other words, decrease the loss."
      ],
      "metadata": {
        "id": "YycvJaygTa_L"
      }
    },
    {
      "cell_type": "code",
      "source": [
        "# Set up a loss function\n",
        "loss_fn = nn.L1Loss()\n",
        "print(loss_fn)\n",
        "\n",
        "# Setup an optimizer\n",
        "optimizer = torch.optim.SGD(\n",
        "    params=model0.parameters(),# what parameter should the model optimize or change\n",
        "    lr= 0.01#learning rate hyperparameter(we should set) / the smaller the learning rate is the smaller the change in the parameter\n",
        ")\n",
        "optimizer"
      ],
      "metadata": {
        "colab": {
          "base_uri": "https://localhost:8080/"
        },
        "id": "trKM51kdN7jw",
        "outputId": "501a4c99-a5ed-440f-9e04-ffeb160bed6f"
      },
      "execution_count": 9,
      "outputs": [
        {
          "output_type": "stream",
          "name": "stdout",
          "text": [
            "L1Loss()\n"
          ]
        },
        {
          "output_type": "execute_result",
          "data": {
            "text/plain": [
              "SGD (\n",
              "Parameter Group 0\n",
              "    dampening: 0\n",
              "    differentiable: False\n",
              "    foreach: None\n",
              "    lr: 0.01\n",
              "    maximize: False\n",
              "    momentum: 0\n",
              "    nesterov: False\n",
              "    weight_decay: 0\n",
              ")"
            ]
          },
          "metadata": {},
          "execution_count": 9
        }
      ]
    },
    {
      "cell_type": "markdown",
      "source": [
        "###Making the training loop and a testing loop\n",
        "\n",
        "Things we need in the training loop:\n",
        "0. Loop through the data\n",
        "1. Forward pass(this involves data moving through our model's `forward()`) to make the predictions. In other words, data moving from the input to the output layer. So, starting from the input layer and moving through the layers to the output layer - also called forward propagation\n",
        "2. Calculate the loss coming from those predictions made by the forward pass\n",
        "3. Optimizer zero grad\n",
        "4. Loss backward: move backwards through the network to calculate the gradiants of each of the parameters of our model with respect to the loss **(backproagation algorithm)**\n",
        "5. Optimizer step: use to adjust our params to improve the loss **(Gradient descent algorithm)**"
      ],
      "metadata": {
        "id": "K9s8IkV4dPTS"
      }
    },
    {
      "cell_type": "code",
      "source": [
        "torch.manual_seed(42)\n",
        "\n",
        "# An epoch is one loop through the data (that's a hyperprameter bec we seted it ourselves)\n",
        "epochs = 250\n",
        "\n",
        "# empty list for storing useful values and tracking them\n",
        "epoch_count = []\n",
        "loss_values = []\n",
        "test_loss_values = []\n",
        "\n",
        "# step 0 loop through the data\n",
        "for epoch in range(epochs):\n",
        "  # set the model to training mode\n",
        "  model0.train() # train mode sets all parameters that require gradients to require gradients = True\n",
        "\n",
        "  # 1. Forward pass (getting predictions)\n",
        "  y_pred1 = model0(X_train)\n",
        "\n",
        "  # 2. calculate the loss\n",
        "  loss = loss_fn(y_pred1, y_train)\n",
        "  # print(f\"loss: {loss}\")\n",
        "\n",
        "  # 3. optimizer zero grad (optimize params)\n",
        "  # you make it zero to make a fresh start every iteration\n",
        "  optimizer.zero_grad()\n",
        "\n",
        "  # 4. preform backpropagation on the loss with respect to the params of the model\n",
        "  loss.backward()\n",
        "\n",
        "  # 5. step optimizer (preform gradient descent)\n",
        "  optimizer.step()# how to optimizer will accumilate the through the loop ... so we have to make them zero like in step 3\n",
        "\n",
        "\n",
        "  # testing\n",
        "  model0.eval() # turns off gradient tracking\n",
        "  with torch.inference_mode():\n",
        "    # 1. forward pass\n",
        "    test_pred = model0(X_test)\n",
        "\n",
        "    # calculating the loss\n",
        "    test_loss = loss_fn(test_pred, y_test)\n",
        "\n",
        "  # print out what's happening\n",
        "  if epoch % 10 == 0:\n",
        "    print(f\"Epoch {epoch+1} | Loss: {loss} | Test loss: {test_loss}\")\n",
        "    epoch_count.append(epoch)\n",
        "    loss_values.append(loss)\n",
        "    test_loss_values.append(test_loss)\n",
        "  # print the model state\n",
        "  # print(model0.state_dict())"
      ],
      "metadata": {
        "id": "5aBGbdFOdO7J",
        "colab": {
          "base_uri": "https://localhost:8080/"
        },
        "outputId": "04ee699d-d68f-4b22-fa05-04072e30d1e6"
      },
      "execution_count": 10,
      "outputs": [
        {
          "output_type": "stream",
          "name": "stdout",
          "text": [
            "Epoch 1 | Loss: 0.31288138031959534 | Test loss: 0.48106518387794495\n",
            "Epoch 11 | Loss: 0.1976713240146637 | Test loss: 0.3463551998138428\n",
            "Epoch 21 | Loss: 0.08908725529909134 | Test loss: 0.21729660034179688\n",
            "Epoch 31 | Loss: 0.053148526698350906 | Test loss: 0.14464017748832703\n",
            "Epoch 41 | Loss: 0.04543796554207802 | Test loss: 0.11360953003168106\n",
            "Epoch 51 | Loss: 0.04167863354086876 | Test loss: 0.09919948130846024\n",
            "Epoch 61 | Loss: 0.03818932920694351 | Test loss: 0.08886633068323135\n",
            "Epoch 71 | Loss: 0.03476089984178543 | Test loss: 0.0805937647819519\n",
            "Epoch 81 | Loss: 0.03132382780313492 | Test loss: 0.07232122868299484\n",
            "Epoch 91 | Loss: 0.02788739837706089 | Test loss: 0.06473556160926819\n",
            "Epoch 101 | Loss: 0.024458957836031914 | Test loss: 0.05646304413676262\n",
            "Epoch 111 | Loss: 0.021020207554101944 | Test loss: 0.04819049686193466\n",
            "Epoch 121 | Loss: 0.01758546568453312 | Test loss: 0.04060482233762741\n",
            "Epoch 131 | Loss: 0.014155393466353416 | Test loss: 0.03233227878808975\n",
            "Epoch 141 | Loss: 0.010716589167714119 | Test loss: 0.024059748277068138\n",
            "Epoch 151 | Loss: 0.0072835334576666355 | Test loss: 0.016474086791276932\n",
            "Epoch 161 | Loss: 0.0038517764769494534 | Test loss: 0.008201557211577892\n",
            "Epoch 171 | Loss: 0.008932482451200485 | Test loss: 0.005023092031478882\n",
            "Epoch 181 | Loss: 0.008932482451200485 | Test loss: 0.005023092031478882\n",
            "Epoch 191 | Loss: 0.008932482451200485 | Test loss: 0.005023092031478882\n",
            "Epoch 201 | Loss: 0.008932482451200485 | Test loss: 0.005023092031478882\n",
            "Epoch 211 | Loss: 0.008932482451200485 | Test loss: 0.005023092031478882\n",
            "Epoch 221 | Loss: 0.008932482451200485 | Test loss: 0.005023092031478882\n",
            "Epoch 231 | Loss: 0.008932482451200485 | Test loss: 0.005023092031478882\n",
            "Epoch 241 | Loss: 0.008932482451200485 | Test loss: 0.005023092031478882\n"
          ]
        }
      ]
    },
    {
      "cell_type": "code",
      "source": [
        "print(weight, bias)\n",
        "print(model0.state_dict())"
      ],
      "metadata": {
        "colab": {
          "base_uri": "https://localhost:8080/"
        },
        "id": "a_g_JPvayZVD",
        "outputId": "3cd84b37-4474-4019-f9ba-6a2683910aff"
      },
      "execution_count": 11,
      "outputs": [
        {
          "output_type": "stream",
          "name": "stdout",
          "text": [
            "0.7 0.3\n",
            "OrderedDict([('weights', tensor([0.6990])), ('bias', tensor([0.3093]))])\n"
          ]
        }
      ]
    },
    {
      "cell_type": "code",
      "source": [
        "with torch.inference_mode():\n",
        "  y_new_preds = model0(X_test)\n",
        "plot_predictions(predictions=y_new_preds)\n",
        "print(y_new_preds)"
      ],
      "metadata": {
        "colab": {
          "base_uri": "https://localhost:8080/",
          "height": 782
        },
        "id": "JIwUNzmX6xLr",
        "outputId": "66a573e5-6acd-448a-9ce1-343a2b193e20"
      },
      "execution_count": 12,
      "outputs": [
        {
          "output_type": "stream",
          "name": "stdout",
          "text": [
            "tensor([[0.8685],\n",
            "        [0.8825],\n",
            "        [0.8965],\n",
            "        [0.9105],\n",
            "        [0.9245],\n",
            "        [0.9384],\n",
            "        [0.9524],\n",
            "        [0.9664],\n",
            "        [0.9804],\n",
            "        [0.9944]])\n"
          ]
        },
        {
          "output_type": "display_data",
          "data": {
            "text/plain": [
              "<Figure size 1000x700 with 1 Axes>"
            ],
            "image/png": "[encoded data removed]"
          },
          "metadata": {}
        }
      ]
    },
    {
      "cell_type": "code",
      "source": [
        "# plot the loss data\n",
        "plt.plot(epoch_count, np.array(torch.tensor(loss_values).cpu().numpy()), label=\"Train loss\")\n",
        "plt.plot(epoch_count, np.array(torch.tensor(test_loss_values).cpu().numpy()), label=\"Test loss\")\n",
        "plt.title(\"training and test loss curves\")\n",
        "plt.ylabel(\"Loss\")\n",
        "plt.xlabel(\"Epochs\")\n",
        "plt.legend();"
      ],
      "metadata": {
        "colab": {
          "base_uri": "https://localhost:8080/",
          "height": 472
        },
        "id": "oZsh40BZJX6E",
        "outputId": "a751e3f3-2179-468e-9ae2-7ec598a39e58"
      },
      "execution_count": 13,
      "outputs": [
        {
          "output_type": "display_data",
          "data": {
            "text/plain": [
              "<Figure size 640x480 with 1 Axes>"
            ],
            "image/png": "[encoded data removed]"
          },
          "metadata": {}
        }
      ]
    },
    {
      "cell_type": "markdown",
      "source": [
        "###saving and loading a model\n",
        "After trainig the model you might go and make something and return and find that the collapse has been disconnected and you lost every thing. Or, you might wanna save the model and send it to someone for example.\n",
        "\n",
        "there is 3 main methods to do that:\n",
        "1. `torch.save()`: allows you to save a pytorch object in python's pickle format(I think like the local stroge)\n",
        "2. `torch.load()`: to load a saved pytorch object\n",
        "3. `torch.nn.Module.load_state_dict()`: load a model's state dictionary"
      ],
      "metadata": {
        "id": "94VAvOCqd_ta"
      }
    },
    {
      "cell_type": "code",
      "source": [
        "# saving a model\n",
        "from pathlib import Path\n",
        "\n",
        "# 1. create a model dir\n",
        "MODEL_PATH = Path(\"models\")\n",
        "MODEL_PATH.mkdir(parents=True, exist_ok=True)\n",
        "\n",
        "# 2. create model to save path\n",
        "MODEL_NAME = \"0_linear_regression_model.pht\" # pytorch models usually have the extension \".pht\" or \".pt\"\n",
        "MODEL_SAVE_PATH = MODEL_PATH / MODEL_NAME\n",
        "print(MODEL_SAVE_PATH)\n",
        "\n",
        "# 3. save the model's state_dict\n",
        "print(f\"saving model to {MODEL_SAVE_PATH}\")\n",
        "torch.save(obj=model0.state_dict(), f=MODEL_SAVE_PATH)\n",
        "\n",
        "# 4. load the model\n",
        "# to make that we have to make a new instance of our model class\n",
        "torch.manual_seed(42)\n",
        "loaded_model0 = LinearRegressionModel()\n",
        "\n",
        "# load the saved state dict of model0 (this will update the new instance with the updated params)\n",
        "print(loaded_model0.state_dict())\n",
        "loaded_model0.load_state_dict(torch.load(f=MODEL_SAVE_PATH))\n",
        "print(loaded_model0.state_dict())"
      ],
      "metadata": {
        "colab": {
          "base_uri": "https://localhost:8080/"
        },
        "id": "n7BSZ-ASbjOt",
        "outputId": "f799d573-c38c-42b8-c330-f9e0bf33cb8f"
      },
      "execution_count": 17,
      "outputs": [
        {
          "output_type": "stream",
          "name": "stdout",
          "text": [
            "models/0_linear_regression_model.pht\n",
            "saving model to models/0_linear_regression_model.pht\n",
            "OrderedDict([('weights', tensor([0.3367])), ('bias', tensor([0.1288]))])\n",
            "OrderedDict([('weights', tensor([0.6990])), ('bias', tensor([0.3093]))])\n"
          ]
        }
      ]
    },
    {
      "cell_type": "code",
      "source": [
        "# make some predictions with our loaded model\n",
        "loaded_model0.eval()\n",
        "with torch.inference_mode():\n",
        "  loaded_model_preds = loaded_model0(X_test)\n",
        "\n",
        "model0.eval()\n",
        "with torch.inference_mode():\n",
        "  y_preds = model0(X_test)\n",
        "print(loaded_model_preds)\n",
        "print(y_preds)\n",
        "print(y_preds==loaded_model_preds)"
      ],
      "metadata": {
        "colab": {
          "base_uri": "https://localhost:8080/"
        },
        "id": "m_vuFDQbmsjz",
        "outputId": "a4706a8c-b873-4824-b42c-10fc2eef1872"
      },
      "execution_count": 21,
      "outputs": [
        {
          "output_type": "stream",
          "name": "stdout",
          "text": [
            "tensor([[0.8685],\n",
            "        [0.8825],\n",
            "        [0.8965],\n",
            "        [0.9105],\n",
            "        [0.9245],\n",
            "        [0.9384],\n",
            "        [0.9524],\n",
            "        [0.9664],\n",
            "        [0.9804],\n",
            "        [0.9944]])\n",
            "tensor([[0.8685],\n",
            "        [0.8825],\n",
            "        [0.8965],\n",
            "        [0.9105],\n",
            "        [0.9245],\n",
            "        [0.9384],\n",
            "        [0.9524],\n",
            "        [0.9664],\n",
            "        [0.9804],\n",
            "        [0.9944]])\n",
            "tensor([[True],\n",
            "        [True],\n",
            "        [True],\n",
            "        [True],\n",
            "        [True],\n",
            "        [True],\n",
            "        [True],\n",
            "        [True],\n",
            "        [True],\n",
            "        [True]])\n"
          ]
        }
      ]
    },
    {
      "cell_type": "markdown",
      "source": [
        "###6. Putting everything together in one cell (check the next google collapse file for that)"
      ],
      "metadata": {
        "id": "oEKBfQa5ofZ5"
      }
    },
    {
      "cell_type": "code",
      "source": [
        "\n"
      ],
      "metadata": {
        "id": "yOhanBMboine"
      },
      "execution_count": null,
      "outputs": []
    }
  ]
}