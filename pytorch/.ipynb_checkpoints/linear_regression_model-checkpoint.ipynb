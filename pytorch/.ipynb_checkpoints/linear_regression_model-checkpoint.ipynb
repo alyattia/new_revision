{
  "nbformat": 4,
  "nbformat_minor": 0,
  "metadata": {
    "colab": {
      "provenance": [],
      "toc_visible": true
    },
    "kernelspec": {
      "name": "python3",
      "display_name": "Python 3"
    },
    "language_info": {
      "name": "python"
    }
  },
  "cells": [
    {
      "cell_type": "markdown",
      "source": [
        "###Putting everything"
      ],
      "metadata": {
        "id": "6O-_Grplp975"
      }
    },
    {
      "cell_type": "markdown",
      "source": [
        "###6.0 imorting"
      ],
      "metadata": {
        "id": "wIBVtirAt_ZG"
      }
    },
    {
      "cell_type": "code",
      "execution_count": 18,
      "metadata": {
        "colab": {
          "base_uri": "https://localhost:8080/"
        },
        "id": "VLGJZg9Rp5jp",
        "outputId": "f3ba740c-29ac-435d-a185-2e48b5ed9d34"
      },
      "outputs": [
        {
          "output_type": "stream",
          "name": "stdout",
          "text": [
            "2.3.0+cu121\n",
            "cpu\n"
          ]
        }
      ],
      "source": [
        "import torch\n",
        "from torch import nn\n",
        "import matplotlib.pyplot as plt\n",
        "import numpy as np\n",
        "\n",
        "# check Pytorch version\n",
        "print(torch.__version__)\n",
        "device = \"cuda\" if torch.cuda.is_available() else \"cpu\"\n",
        "print(device)\n"
      ]
    },
    {
      "cell_type": "markdown",
      "source": [
        "###6.1 getting our data ready"
      ],
      "metadata": {
        "id": "sINwTHL_t7jl"
      }
    },
    {
      "cell_type": "code",
      "source": [
        "# defining the weights and bias that our model should predict\n",
        "my_weights = 0.7\n",
        "my_bias = 0.3\n",
        "\n",
        "# getting our data\n",
        "start = 0\n",
        "end = 1\n",
        "step = 0.02\n",
        "# our data's tensor\n",
        "X = torch.arange(start, end, step).unsqueeze(dim=1).to(device)\n",
        "# the y of each point in tensor X in respect of our weights(slop) bias(y-intercept)\n",
        "y = my_weights * X + my_bias\n",
        "\n",
        "# check our data\n",
        "print(f\"{X[:10]} that's first 10 of X\")\n",
        "print(f\"{y[:10]} that's first 10 of y\")\n",
        "\n",
        "# splitting our data into training and testing\n",
        "training_split = int(0.8*len(X))\n",
        "X_train, y_train = X[:training_split], y[:training_split]\n",
        "X_test, y_test = X[training_split:], y[training_split:]\n",
        "print(f\"there is {len(X_train), len(y_train)} x,y train and {len(X_test), len(y_test)} x,y test\")\n",
        "\n",
        "# creating the graph plot function\n",
        "def plot_predictions(train_data=X_train.cpu(),\n",
        "                     train_labels=y_train.cpu(),\n",
        "                     test_data=X_test.cpu(),\n",
        "                     test_labels=y_test.cpu(),\n",
        "                     predictions=None):\n",
        "\n",
        "  plt.figure(figsize=(10, 7))\n",
        "  # show the training data\n",
        "  plt.scatter(train_data, train_labels, c=\"b\", s=4, label=\"Training data\")\n",
        "  # show(plot) the testing data\n",
        "  plt.scatter(test_data, test_labels, c=\"g\", s=4, label=\"Testing data\")\n",
        "\n",
        "  # if there is predicitons plot it\n",
        "  if predictions is not None:\n",
        "    plt.scatter(test_data, predictions, c=\"r\", s=4, label=\"Predictions\")\n",
        "\n",
        "  # show the legends\n",
        "  plt.legend(prop={\"size\": 14})\n",
        "\n",
        "plot_predictions()"
      ],
      "metadata": {
        "colab": {
          "base_uri": "https://localhost:8080/",
          "height": 977
        },
        "id": "CLvjLNiht5ku",
        "outputId": "d8ca4f5e-3781-49b1-db6d-e0b504628b41"
      },
      "execution_count": 19,
      "outputs": [
        {
          "output_type": "stream",
          "name": "stdout",
          "text": [
            "tensor([[0.0000],\n",
            "        [0.0200],\n",
            "        [0.0400],\n",
            "        [0.0600],\n",
            "        [0.0800],\n",
            "        [0.1000],\n",
            "        [0.1200],\n",
            "        [0.1400],\n",
            "        [0.1600],\n",
            "        [0.1800]]) that's first 10 of X\n",
            "tensor([[0.3000],\n",
            "        [0.3140],\n",
            "        [0.3280],\n",
            "        [0.3420],\n",
            "        [0.3560],\n",
            "        [0.3700],\n",
            "        [0.3840],\n",
            "        [0.3980],\n",
            "        [0.4120],\n",
            "        [0.4260]]) that's first 10 of y\n",
            "there is (40, 40) x,y train and (10, 10) x,y test\n"
          ]
        },
        {
          "output_type": "display_data",
          "data": {
            "text/plain": [
              "<Figure size 1000x700 with 1 Axes>"
            ],
            "image/png": "[encoded data removed]"
          },
          "metadata": {}
        }
      ]
    },
    {
      "cell_type": "markdown",
      "source": [
        "###6.2 Creating the model"
      ],
      "metadata": {
        "id": "vEwwNlY0MKvt"
      }
    },
    {
      "cell_type": "code",
      "source": [
        "# Creating the model that inherents from nn.Module\n",
        "class LinearRegressionModel(nn.Module):\n",
        "  def __init__(self):\n",
        "    super().__init__()\n",
        "    # not like the other files we will not intialize the parameters ourselves here, sondern we will make layers\n",
        "    self.linear_layer = nn.Linear(in_features=1, out_features=1) # that means we are taking an input with size 1 and returning output with size 1\n",
        "\n",
        "  def forward(self, x: torch.Tensor) -> torch.Tensor:\n",
        "    return self.linear_layer(x) # the linear layer is actually the linear equation and pytorch difines the paramerters for us automatily\n",
        "\n",
        "torch.manual_seed(42)\n",
        "model0 = LinearRegressionModel()\n",
        "model0.to(device)\n",
        "print(next(model0.parameters()).device)# print the model's device\n",
        "\n",
        "print(model0)\n",
        "print(list(model0.parameters()))\n",
        "print(model0.state_dict())"
      ],
      "metadata": {
        "colab": {
          "base_uri": "https://localhost:8080/"
        },
        "id": "4fQJ4vC2MRf1",
        "outputId": "69ba0eb7-616e-44d9-f314-71db23fa8250"
      },
      "execution_count": 27,
      "outputs": [
        {
          "output_type": "stream",
          "name": "stdout",
          "text": [
            "cpu\n",
            "LinearRegressionModel(\n",
            "  (linear_layer): Linear(in_features=1, out_features=1, bias=True)\n",
            ")\n",
            "[Parameter containing:\n",
            "tensor([[0.7645]], requires_grad=True), Parameter containing:\n",
            "tensor([0.8300], requires_grad=True)]\n",
            "OrderedDict([('linear_layer.weight', tensor([[0.7645]])), ('linear_layer.bias', tensor([0.8300]))])\n"
          ]
        }
      ]
    },
    {
      "cell_type": "markdown",
      "source": [
        "### 6.3 training the model"
      ],
      "metadata": {
        "id": "YlwFgR0OP4N-"
      }
    },
    {
      "cell_type": "code",
      "source": [
        "# 6.3.1 Defining the loss function\n",
        "loss_fn = nn.L1Loss()\n",
        "\n",
        "# 6.3.2 Defining the optimizer\n",
        "optimizer = torch.optim.SGD(params=model0.parameters(), lr=0.01)\n",
        "\n",
        "loss_fn, optimizer"
      ],
      "metadata": {
        "colab": {
          "base_uri": "https://localhost:8080/"
        },
        "id": "nZ6JW00JSH42",
        "outputId": "0f907cca-3e84-4396-d6d2-95831171ae40"
      },
      "execution_count": 21,
      "outputs": [
        {
          "output_type": "execute_result",
          "data": {
            "text/plain": [
              "(L1Loss(),\n",
              " SGD (\n",
              " Parameter Group 0\n",
              "     dampening: 0\n",
              "     differentiable: False\n",
              "     foreach: None\n",
              "     fused: None\n",
              "     lr: 0.01\n",
              "     maximize: False\n",
              "     momentum: 0\n",
              "     nesterov: False\n",
              "     weight_decay: 0\n",
              " ))"
            ]
          },
          "metadata": {},
          "execution_count": 21
        }
      ]
    },
    {
      "cell_type": "code",
      "source": [
        "# 6.3.3 Making the training loop\n",
        "# How many training loops\n",
        "epochs = 200\n",
        "\n",
        "# defining empty arrays to save valuable data for tracking\n",
        "epoch_count = []\n",
        "train_loss_values = []\n",
        "test_loss_values = []\n",
        "\n",
        "for epoch in range(epochs):\n",
        "  # trigger the model to trainig to track gradients\n",
        "  model0.train()\n",
        "\n",
        "  # make predictions\n",
        "  y_train_preds = model0(X_train)\n",
        "\n",
        "  # apply the loss function to get the loss of those predictions\n",
        "  loss = loss_fn(y_train_preds, y_train)\n",
        "\n",
        "  # zero the gradients to (as i understand) draw a new gradient line every time and know in which direction it should move\n",
        "  optimizer.zero_grad()\n",
        "\n",
        "  # go backward to preform the backpropagation\n",
        "  loss.backward()\n",
        "\n",
        "  # go forward again with the new data (gradient descent)\n",
        "  optimizer.step()\n",
        "\n",
        "\n",
        "  # trigger the training status to don't track gradients, hence it becomes faster and more effeicient (bec we need gradient tracking only when trainign the model not when evaluating it)\n",
        "  model0.eval()\n",
        "\n",
        "  # stop tracking gradients\n",
        "  with torch.inference_mode():\n",
        "    # get the preds of the test\n",
        "    y_test_preds = model0(X_test)\n",
        "\n",
        "    # get the loss of those preds\n",
        "    test_loss = loss_fn(y_test_preds, y_test)\n",
        "\n",
        "  if epoch % 10 == 0:\n",
        "    print(f\"epoch: {epoch} | train loss: {loss} | test loss: {test_loss}\")\n",
        "    epoch_count.append(epoch)\n",
        "    train_loss_values.append(loss)\n",
        "    test_loss_values.append(test_loss)"
      ],
      "metadata": {
        "colab": {
          "base_uri": "https://localhost:8080/"
        },
        "id": "f8B2A-uZP7hI",
        "outputId": "deb9fa8b-a98c-4e4c-9b0e-e8aaada39b5a"
      },
      "execution_count": 22,
      "outputs": [
        {
          "output_type": "stream",
          "name": "stdout",
          "text": [
            "epoch: 0 | train loss: 0.5551779866218567 | test loss: 0.5739762187004089\n",
            "epoch: 10 | train loss: 0.4399680495262146 | test loss: 0.4392663538455963\n",
            "epoch: 20 | train loss: 0.3247582018375397 | test loss: 0.30455657839775085\n",
            "epoch: 30 | train loss: 0.20954827964305878 | test loss: 0.16984674334526062\n",
            "epoch: 40 | train loss: 0.09433844685554504 | test loss: 0.03513689711689949\n",
            "epoch: 50 | train loss: 0.023886386305093765 | test loss: 0.04784906655550003\n",
            "epoch: 60 | train loss: 0.0199567973613739 | test loss: 0.04580312222242355\n",
            "epoch: 70 | train loss: 0.016517987474799156 | test loss: 0.0375305712223053\n",
            "epoch: 80 | train loss: 0.013089170679450035 | test loss: 0.029944902285933495\n",
            "epoch: 90 | train loss: 0.009653178043663502 | test loss: 0.02167237363755703\n",
            "epoch: 100 | train loss: 0.006215679459273815 | test loss: 0.014086711220443249\n",
            "epoch: 110 | train loss: 0.002787243574857712 | test loss: 0.005814164876937866\n",
            "epoch: 120 | train loss: 0.0012645035749301314 | test loss: 0.013801807537674904\n",
            "epoch: 130 | train loss: 0.0012645035749301314 | test loss: 0.013801807537674904\n",
            "epoch: 140 | train loss: 0.0012645035749301314 | test loss: 0.013801807537674904\n",
            "epoch: 150 | train loss: 0.0012645035749301314 | test loss: 0.013801807537674904\n",
            "epoch: 160 | train loss: 0.0012645035749301314 | test loss: 0.013801807537674904\n",
            "epoch: 170 | train loss: 0.0012645035749301314 | test loss: 0.013801807537674904\n",
            "epoch: 180 | train loss: 0.0012645035749301314 | test loss: 0.013801807537674904\n",
            "epoch: 190 | train loss: 0.0012645035749301314 | test loss: 0.013801807537674904\n"
          ]
        }
      ]
    },
    {
      "cell_type": "code",
      "source": [
        "# 6.3.4 Predicting data after training\n",
        "with torch.inference_mode():\n",
        "  y_new_preds = model0(X_test)\n",
        "# visualizing those predictions\n",
        "plot_predictions(predictions=y_new_preds)"
      ],
      "metadata": {
        "colab": {
          "base_uri": "https://localhost:8080/",
          "height": 593
        },
        "id": "yvlnkRpCW_qi",
        "outputId": "fa23ffdd-eb15-4878-cd2c-cf24903d9276"
      },
      "execution_count": 23,
      "outputs": [
        {
          "output_type": "display_data",
          "data": {
            "text/plain": [
              "<Figure size 1000x700 with 1 Axes>"
            ],
            "image/png": "[encoded data removed]"
          },
          "metadata": {}
        }
      ]
    },
    {
      "cell_type": "code",
      "source": [
        "# 6.3.5 Plotting the loss graphs\n",
        "plt.plot(epoch_count, np.array(torch.tensor(train_loss_values).cpu().numpy()), label=\"Train loss\")\n",
        "plt.plot(epoch_count, np.array(torch.tensor(test_loss_values).cpu().numpy()), label=\"Test loss\")\n",
        "plt.title(\"training and test loss curves\")\n",
        "plt.ylabel(\"Loss\")\n",
        "plt.xlabel(\"Epochs\")\n",
        "plt.legend();"
      ],
      "metadata": {
        "colab": {
          "base_uri": "https://localhost:8080/",
          "height": 472
        },
        "id": "BqL6bomiQ5qd",
        "outputId": "40d07d3e-8539-406d-e63d-4607b815a69f"
      },
      "execution_count": 24,
      "outputs": [
        {
          "output_type": "display_data",
          "data": {
            "text/plain": [
              "<Figure size 640x480 with 1 Axes>"
            ],
            "image/png": "[encoded data removed]"
          },
          "metadata": {}
        }
      ]
    },
    {
      "cell_type": "markdown",
      "source": [
        "###6.4 Saving and loading the model's state dict"
      ],
      "metadata": {
        "id": "ug__XFcURDNP"
      }
    },
    {
      "cell_type": "code",
      "source": [
        "# 6.4.1 saving a model\n",
        "from pathlib import Path\n",
        "\n",
        "# 1. create a model dir\n",
        "MODEL_PATH = Path(\"models\")\n",
        "MODEL_PATH.mkdir(parents=True, exist_ok=True)\n",
        "\n",
        "# 2. create model to save path\n",
        "MODEL_NAME = \"0_linear_regression_model.pht\" # pytorch models usually have the extension \".pht\" or \".pt\"\n",
        "MODEL_SAVE_PATH = MODEL_PATH / MODEL_NAME\n",
        "print(MODEL_SAVE_PATH)\n",
        "\n",
        "# 3. save the model's state_dict\n",
        "print(f\"saving model to {MODEL_SAVE_PATH}\")\n",
        "torch.save(obj=model0.state_dict(), f=MODEL_SAVE_PATH)\n",
        "\n",
        "# 4. load the model\n",
        "# to make that we have to make a new instance of our model class\n",
        "torch.manual_seed(42)\n",
        "loaded_model0 = LinearRegressionModel()\n",
        "\n",
        "# load the saved state dict of model0 (this will update the new instance with the updated params)\n",
        "print(loaded_model0.state_dict())\n",
        "loaded_model0.load_state_dict(torch.load(f=MODEL_SAVE_PATH))\n",
        "print(loaded_model0.state_dict())"
      ],
      "metadata": {
        "colab": {
          "base_uri": "https://localhost:8080/"
        },
        "id": "5LXIYIyGRIon",
        "outputId": "5d04e2e7-5695-4def-9669-ed42a52cbe2f"
      },
      "execution_count": 25,
      "outputs": [
        {
          "output_type": "stream",
          "name": "stdout",
          "text": [
            "models/0_linear_regression_model.pht\n",
            "saving model to models/0_linear_regression_model.pht\n",
            "OrderedDict([('linear_layer.weight', tensor([[0.7645]])), ('linear_layer.bias', tensor([0.8300]))])\n",
            "OrderedDict([('linear_layer.weight', tensor([[0.6968]])), ('linear_layer.bias', tensor([0.3025]))])\n"
          ]
        }
      ]
    },
    {
      "cell_type": "code",
      "source": [
        "# 6.4.5 Loading the model\n",
        "# make some predictions with our loaded model\n",
        "loaded_model0.eval()\n",
        "with torch.inference_mode():\n",
        "  loaded_model_preds = loaded_model0(X_test)\n",
        "\n",
        "model0.eval()\n",
        "with torch.inference_mode():\n",
        "  y_preds = model0(X_test)\n",
        "print(loaded_model_preds)\n",
        "print(y_preds)\n",
        "print(y_preds==loaded_model_preds)"
      ],
      "metadata": {
        "colab": {
          "base_uri": "https://localhost:8080/"
        },
        "id": "_YVNAbcWRhNJ",
        "outputId": "635588b2-ecf8-4dc6-be72-d41b6c7ecb10"
      },
      "execution_count": 26,
      "outputs": [
        {
          "output_type": "stream",
          "name": "stdout",
          "text": [
            "tensor([[0.8600],\n",
            "        [0.8739],\n",
            "        [0.8878],\n",
            "        [0.9018],\n",
            "        [0.9157],\n",
            "        [0.9296],\n",
            "        [0.9436],\n",
            "        [0.9575],\n",
            "        [0.9714],\n",
            "        [0.9854]])\n",
            "tensor([[0.8600],\n",
            "        [0.8739],\n",
            "        [0.8878],\n",
            "        [0.9018],\n",
            "        [0.9157],\n",
            "        [0.9296],\n",
            "        [0.9436],\n",
            "        [0.9575],\n",
            "        [0.9714],\n",
            "        [0.9854]])\n",
            "tensor([[True],\n",
            "        [True],\n",
            "        [True],\n",
            "        [True],\n",
            "        [True],\n",
            "        [True],\n",
            "        [True],\n",
            "        [True],\n",
            "        [True],\n",
            "        [True]])\n"
          ]
        }
      ]
    },
    {
      "cell_type": "markdown",
      "source": [
        "#Yahoo the model is ready"
      ],
      "metadata": {
        "id": "CTRXr7GKRsch"
      }
    }
  ]
}